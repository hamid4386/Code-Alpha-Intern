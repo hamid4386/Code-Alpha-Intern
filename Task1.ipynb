{
 "cells": [
  {
   "cell_type": "markdown",
   "metadata": {},
   "source": [
    "# Author Details:\n",
    "\n",
    "### **Name: Muhammad Hamid**\n",
    "### **linkedin** :https://www.linkedin.com/in/muhammad-hamid-87242a312/\n",
    "### **GitHub**: https://github.com/hamid4386"
   ]
  },
  {
   "cell_type": "code",
   "execution_count": 14,
   "metadata": {},
   "outputs": [
    {
     "name": "stdout",
     "output_type": "stream",
     "text": [
      "Using device: cpu\n"
     ]
    }
   ],
   "source": [
    "# Import necessary libraries\n",
    "import numpy as np\n",
    "import pandas as pd\n",
    "from sklearn.preprocessing import MinMaxScaler\n",
    "import matplotlib.pyplot as plt\n",
    "\n",
    "import torch\n",
    "import torch.nn as nn\n",
    "\n",
    "# Check if GPU is available and set the device accordingly\n",
    "device = torch.device(\"cuda\" if torch.cuda.is_available() else \"cpu\")\n",
    "print(f\"Using device: {device}\")"
   ]
  },
  {
   "cell_type": "code",
   "execution_count": 15,
   "metadata": {},
   "outputs": [],
   "source": [
    "# loading data set\n",
    "df = pd.read_csv(\"AAPL.csv\")"
   ]
  },
  {
   "cell_type": "markdown",
   "metadata": {},
   "source": [
    "## check data for unwanted things like missing values etc"
   ]
  },
  {
   "cell_type": "code",
   "execution_count": 16,
   "metadata": {},
   "outputs": [
    {
     "name": "stdout",
     "output_type": "stream",
     "text": [
      "<class 'pandas.core.frame.DataFrame'>\n",
      "RangeIndex: 11021 entries, 0 to 11020\n",
      "Data columns (total 7 columns):\n",
      " #   Column     Non-Null Count  Dtype  \n",
      "---  ------     --------------  -----  \n",
      " 0   Date       11021 non-null  object \n",
      " 1   Open       11021 non-null  float64\n",
      " 2   High       11021 non-null  float64\n",
      " 3   Low        11021 non-null  float64\n",
      " 4   Close      11021 non-null  float64\n",
      " 5   Adj Close  11021 non-null  float64\n",
      " 6   Volume     11021 non-null  int64  \n",
      "dtypes: float64(5), int64(1), object(1)\n",
      "memory usage: 602.8+ KB\n"
     ]
    }
   ],
   "source": [
    "df.info()"
   ]
  },
  {
   "cell_type": "code",
   "execution_count": 17,
   "metadata": {},
   "outputs": [
    {
     "data": {
      "text/plain": [
       "Date         0\n",
       "Open         0\n",
       "High         0\n",
       "Low          0\n",
       "Close        0\n",
       "Adj Close    0\n",
       "Volume       0\n",
       "dtype: int64"
      ]
     },
     "execution_count": 17,
     "metadata": {},
     "output_type": "execute_result"
    }
   ],
   "source": [
    "df.isnull().sum()"
   ]
  },
  {
   "cell_type": "markdown",
   "metadata": {},
   "source": [
    "### Data Loading and Preprocessing\n",
    "In this step, we will perform some preprocessing like normalization. The data will be moved to the GPU if available.\n"
   ]
  },
  {
   "cell_type": "code",
   "execution_count": 18,
   "metadata": {},
   "outputs": [],
   "source": [
    "closed_prices = df[\"Close\"]\n",
    "\n",
    "seq_len = 20\n",
    "\n",
    "mm = MinMaxScaler()\n",
    "scaled_price = mm.fit_transform(np.array(closed_prices)[..., None]).squeeze()\n",
    "\n",
    "X = []\n",
    "y = []\n",
    "\n",
    "for i in range(len(scaled_price) - seq_len):\n",
    "    X.append(scaled_price[i: i + seq_len])\n",
    "    y.append(scaled_price[i + seq_len])\n",
    "\n",
    "X = np.array(X)[..., None]\n",
    "y = np.array(y)[..., None]\n",
    "\n",
    "# Convert to PyTorch tensors and move to the selected device (GPU/CPU)\n",
    "train_x = torch.from_numpy(X[:int(0.8 * X.shape[0])]).float().to(device)\n",
    "train_y = torch.from_numpy(y[:int(0.8 * X.shape[0])]).float().to(device)\n",
    "test_x = torch.from_numpy(X[int(0.8 * X.shape[0]):]).float().to(device)\n",
    "test_y = torch.from_numpy(y[int(0.8 * X.shape[0]):]).float().to(device)\n"
   ]
  },
  {
   "cell_type": "code",
   "execution_count": 19,
   "metadata": {},
   "outputs": [
    {
     "data": {
      "text/plain": [
       "(11021,)"
      ]
     },
     "execution_count": 19,
     "metadata": {},
     "output_type": "execute_result"
    }
   ],
   "source": [
    "closed_prices.shape"
   ]
  },
  {
   "cell_type": "markdown",
   "metadata": {},
   "source": [
    "### Define the LSTM Model\n",
    "Here, we define a simple LSTM model using PyTorch. The model has an LSTM layer followed by a fully connected layer. The model is moved to the GPU if available.\n"
   ]
  },
  {
   "cell_type": "code",
   "execution_count": 20,
   "metadata": {},
   "outputs": [],
   "source": [
    "# Cell 3: Define the LSTM model class\n",
    "class Model(nn.Module):\n",
    "    def __init__(self, input_size, hidden_size):\n",
    "        super().__init__()\n",
    "        self.lstm = nn.LSTM(input_size, hidden_size, batch_first=True)\n",
    "        self.fc = nn.Linear(hidden_size, 1)\n",
    "    \n",
    "    def forward(self, x):\n",
    "        output, (hidden, cell) = self.lstm(x)\n",
    "        return self.fc(hidden[-1, :])\n",
    "\n",
    "# Initialize the model and move it to the selected device\n",
    "model = Model(1, 64).to(device)\n"
   ]
  },
  {
   "cell_type": "markdown",
   "metadata": {},
   "source": [
    "### Define Loss Function and Optimizer\n",
    "We'll use Mean Squared Error (MSE) as the loss function and Adam optimizer for the training process.\n"
   ]
  },
  {
   "cell_type": "code",
   "execution_count": 21,
   "metadata": {},
   "outputs": [],
   "source": [
    "# Cell 4: Set up the optimizer and loss function\n",
    "optimizer = torch.optim.Adam(model.parameters(), lr=0.01)\n",
    "loss_fn = nn.MSELoss()\n",
    "num_epochs = 100\n"
   ]
  },
  {
   "cell_type": "markdown",
   "metadata": {},
   "source": [
    "### Train the Model\n",
    "In this step, we train the LSTM model for a specified number of epochs, printing the loss every 10 epochs. The training will be performed on the GPU if available.\n"
   ]
  },
  {
   "cell_type": "code",
   "execution_count": 22,
   "metadata": {},
   "outputs": [
    {
     "name": "stdout",
     "output_type": "stream",
     "text": [
      "0 epoch loss 0.023087023\n",
      "1 epoch loss 0.000982509\n",
      "2 epoch loss 0.010871777\n",
      "3 epoch loss 0.0029876719\n",
      "4 epoch loss 0.00094286335\n",
      "5 epoch loss 0.0022958724\n",
      "6 epoch loss 0.0033334761\n",
      "7 epoch loss 0.0031072192\n",
      "8 epoch loss 0.0022446734\n",
      "9 epoch loss 0.001405061\n",
      "10 epoch loss 0.00092150405\n",
      "11 epoch loss 0.00085118855\n",
      "12 epoch loss 0.0010644683\n",
      "13 epoch loss 0.001332067\n",
      "14 epoch loss 0.0014540408\n",
      "15 epoch loss 0.0013724524\n",
      "16 epoch loss 0.0011635926\n",
      "17 epoch loss 0.00094707595\n",
      "18 epoch loss 0.0008079896\n",
      "19 epoch loss 0.0007712514\n",
      "20 epoch loss 0.0008138231\n",
      "21 epoch loss 0.00088984246\n",
      "22 epoch loss 0.000953709\n",
      "23 epoch loss 0.0009754262\n",
      "24 epoch loss 0.0009468722\n",
      "25 epoch loss 0.00087982154\n",
      "26 epoch loss 0.000798127\n",
      "27 epoch loss 0.00072742277\n",
      "28 epoch loss 0.000685733\n",
      "29 epoch loss 0.000677742\n",
      "30 epoch loss 0.00069439964\n",
      "31 epoch loss 0.0007179467\n",
      "32 epoch loss 0.0007303216\n",
      "33 epoch loss 0.00072110404\n",
      "34 epoch loss 0.0006911537\n",
      "35 epoch loss 0.00065048854\n",
      "36 epoch loss 0.0006122032\n",
      "37 epoch loss 0.00058606267\n",
      "38 epoch loss 0.00057482277\n",
      "39 epoch loss 0.0005743311\n",
      "40 epoch loss 0.0005765434\n",
      "41 epoch loss 0.0005736111\n",
      "42 epoch loss 0.0005611976\n",
      "43 epoch loss 0.00053982734\n",
      "44 epoch loss 0.00051399914\n",
      "45 epoch loss 0.00048967125\n",
      "46 epoch loss 0.00047131538\n",
      "47 epoch loss 0.00045987856\n",
      "48 epoch loss 0.000452598\n",
      "49 epoch loss 0.00044474794\n",
      "50 epoch loss 0.00043236316\n",
      "51 epoch loss 0.00041438005\n",
      "52 epoch loss 0.00039294528\n",
      "53 epoch loss 0.00037180615\n",
      "54 epoch loss 0.00035390473\n",
      "55 epoch loss 0.00033970617\n",
      "56 epoch loss 0.00032719618\n",
      "57 epoch loss 0.00031338722\n",
      "58 epoch loss 0.000296297\n",
      "59 epoch loss 0.00027615525\n",
      "60 epoch loss 0.00025510375\n",
      "61 epoch loss 0.00023559843\n",
      "62 epoch loss 0.00021859868\n",
      "63 epoch loss 0.00020287992\n",
      "64 epoch loss 0.00018610172\n",
      "65 epoch loss 0.00016687544\n",
      "66 epoch loss 0.00014605206\n",
      "67 epoch loss 0.00012595841\n",
      "68 epoch loss 0.00010819932\n",
      "69 epoch loss 9.2178656e-05\n",
      "70 epoch loss 7.595166e-05\n",
      "71 epoch loss 5.8685873e-05\n",
      "72 epoch loss 4.2068557e-05\n",
      "73 epoch loss 2.8723878e-05\n",
      "74 epoch loss 1.914923e-05\n",
      "75 epoch loss 1.1361133e-05\n",
      "76 epoch loss 4.550003e-06\n",
      "77 epoch loss 1.233591e-06\n",
      "78 epoch loss 3.249921e-06\n",
      "79 epoch loss 8.033313e-06\n",
      "80 epoch loss 1.2658177e-05\n",
      "81 epoch loss 1.7749648e-05\n",
      "82 epoch loss 2.2734224e-05\n",
      "83 epoch loss 2.4056511e-05\n",
      "84 epoch loss 2.1736932e-05\n",
      "85 epoch loss 1.8552386e-05\n",
      "86 epoch loss 1.4673217e-05\n",
      "87 epoch loss 9.922513e-06\n",
      "88 epoch loss 6.020475e-06\n",
      "89 epoch loss 3.811666e-06\n",
      "90 epoch loss 2.369937e-06\n",
      "91 epoch loss 1.252707e-06\n",
      "92 epoch loss 9.623706e-07\n",
      "93 epoch loss 1.4915108e-06\n",
      "94 epoch loss 2.1483017e-06\n",
      "95 epoch loss 2.6052187e-06\n",
      "96 epoch loss 3.1060551e-06\n",
      "97 epoch loss 3.7368375e-06\n",
      "98 epoch loss 4.187261e-06\n",
      "99 epoch loss 4.273021e-06\n"
     ]
    }
   ],
   "source": [
    "# Cell 5: Train the model\n",
    "for epoch in range(num_epochs):\n",
    "    model.train()\n",
    "    output = model(train_x)  # Forward pass\n",
    "    loss = loss_fn(output, train_y)  # Compute loss\n",
    "\n",
    "    optimizer.zero_grad()  # Zero the gradients\n",
    "    loss.backward()  # Backpropagation\n",
    "    optimizer.step()  # Update weights\n",
    "    print(epoch, \"epoch loss\", loss.detach().cpu().numpy())  # Detach and move to CPU for printing"
   ]
  },
  {
   "cell_type": "markdown",
   "metadata": {},
   "source": [
    "### Model Evaluation\n",
    "After training, we evaluate the model on the test dataset and compare the predicted stock prices with the actual stock prices. The evaluation is done on the GPU if available.\n"
   ]
  },
  {
   "cell_type": "code",
   "execution_count": 1,
   "metadata": {},
   "outputs": [
    {
     "ename": "NameError",
     "evalue": "name 'model' is not defined",
     "output_type": "error",
     "traceback": [
      "\u001b[1;31m---------------------------------------------------------------------------\u001b[0m",
      "\u001b[1;31mNameError\u001b[0m                                 Traceback (most recent call last)",
      "Cell \u001b[1;32mIn[1], line 2\u001b[0m\n\u001b[0;32m      1\u001b[0m \u001b[38;5;66;03m# Cell 6: Evaluate the model\u001b[39;00m\n\u001b[1;32m----> 2\u001b[0m \u001b[43mmodel\u001b[49m\u001b[38;5;241m.\u001b[39meval()\n\u001b[0;32m      3\u001b[0m \u001b[38;5;28;01mwith\u001b[39;00m torch\u001b[38;5;241m.\u001b[39mno_grad():\n\u001b[0;32m      4\u001b[0m     output \u001b[38;5;241m=\u001b[39m model(test_x)\n",
      "\u001b[1;31mNameError\u001b[0m: name 'model' is not defined"
     ]
    }
   ],
   "source": [
    "# Cell 6: Evaluate the model\n",
    "model.eval()\n",
    "with torch.no_grad():\n",
    "    output = model(test_x)\n",
    "\n",
    "# Convert the output and test labels back to NumPy arrays and move them to CPU\n",
    "pred = mm.inverse_transform(output.cpu().numpy())\n",
    "real = mm.inverse_transform(test_y.cpu().numpy())\n"
   ]
  },
  {
   "cell_type": "markdown",
   "metadata": {},
   "source": [
    "### Plot Predictions vs. Real Data\n",
    "Finally, we'll plot the predicted stock prices vs. the real stock prices to visually assess the performance of our model.\n"
   ]
  },
  {
   "cell_type": "code",
   "execution_count": 24,
   "metadata": {},
   "outputs": [
    {
     "data": {
      "image/png": "[encoded data removed]",
      "text/plain": [
       "<Figure size 1200x600 with 1 Axes>"
      ]
     },
     "metadata": {},
     "output_type": "display_data"
    }
   ],
   "source": [
    "# Cell 7: Plot the results\n",
    "plt.figure(figsize=(12, 6))\n",
    "plt.plot(pred.squeeze(), color=\"blue\", label=\"predicted\")\n",
    "plt.plot(real.squeeze(), color=\"red\", label=\"real\")\n",
    "plt.legend()\n",
    "plt.show()\n"
   ]
  },
  {
   "cell_type": "code",
   "execution_count": 162,
   "metadata": {},
   "outputs": [],
   "source": [
    "# Save the model\n",
    "torch.save(model.state_dict(), \"model.pth\")\n"
   ]
  }
 ],
 "metadata": {
  "kernelspec": {
   "display_name": "Data_Science",
   "language": "python",
   "name": "python3"
  },
  "language_info": {
   "codemirror_mode": {
    "name": "ipython",
    "version": 3
   },
   "file_extension": ".py",
   "mimetype": "text/x-python",
   "name": "python",
   "nbconvert_exporter": "python",
   "pygments_lexer": "ipython3",
   "version": "3.11.9"
  }
 },
 "nbformat": 4,
 "nbformat_minor": 2
}
